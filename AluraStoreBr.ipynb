{
  "nbformat": 4,
  "nbformat_minor": 0,
  "metadata": {
    "colab": {
      "provenance": [],
      "include_colab_link": true
    },
    "kernelspec": {
      "name": "python3",
      "display_name": "Python 3"
    },
    "language_info": {
      "name": "python"
    }
  },
  "cells": [
    {
      "cell_type": "markdown",
      "metadata": {
        "id": "view-in-github",
        "colab_type": "text"
      },
      "source": [
        "<a href=\"https://colab.research.google.com/github/messias93/Challenge-Alura-Store/blob/main/AluraStoreBr.ipynb\" target=\"_parent\"><img src=\"https://colab.research.google.com/assets/colab-badge.svg\" alt=\"Open In Colab\"/></a>"
      ]
    },
    {
      "cell_type": "markdown",
      "source": [
        "### Importação dos dados\n",
        "\n"
      ],
      "metadata": {
        "id": "RhEdWd9YUR6H"
      }
    },
    {
      "cell_type": "code",
      "execution_count": null,
      "metadata": {
        "colab": {
          "base_uri": "https://localhost:8080/",
          "height": 206
        },
        "id": "T3EvaeQ_INIL",
        "outputId": "99fcbd39-5b8a-4384-f337-bf6bdad0f4ed"
      },
      "outputs": [
        {
          "output_type": "execute_result",
          "data": {
            "text/plain": [
              "                 Produto Categoria do Produto    Preço      Frete  \\\n",
              "0     Assistente virtual          eletronicos   219.08   9.249790   \n",
              "1         Mesa de jantar               moveis   256.35  11.234305   \n",
              "2      Jogo de tabuleiro           brinquedos   279.51  21.262681   \n",
              "3            Micro-ondas     eletrodomesticos  1009.99  54.667344   \n",
              "4  Cadeira de escritório               moveis   446.99  26.964689   \n",
              "\n",
              "  Data da Compra        Vendedor Local da compra  Avaliação da compra  \\\n",
              "0     16/01/2021     Pedro Gomes              SP                    4   \n",
              "1     18/05/2022  Beatriz Moraes              RJ                    1   \n",
              "2     15/03/2021      João Souza              DF                    1   \n",
              "3     03/05/2022      João Souza              RS                    4   \n",
              "4     07/11/2020   Larissa Alves              MG                    5   \n",
              "\n",
              "  Tipo de pagamento  Quantidade de parcelas    lat    lon  \n",
              "0    cartao_credito                       8 -22.19 -48.79  \n",
              "1    cartao_credito                       4 -22.25 -42.66  \n",
              "2    cartao_credito                       1 -15.83 -47.86  \n",
              "3            boleto                       1 -30.17 -53.50  \n",
              "4            boleto                       1 -18.10 -44.38  "
            ],
            "text/html": [
              "\n",
              "  <div id=\"df-ec8b74f1-9c05-4d55-b184-bac9a72d1252\" class=\"colab-df-container\">\n",
              "    <div>\n",
              "<style scoped>\n",
              "    .dataframe tbody tr th:only-of-type {\n",
              "        vertical-align: middle;\n",
              "    }\n",
              "\n",
              "    .dataframe tbody tr th {\n",
              "        vertical-align: top;\n",
              "    }\n",
              "\n",
              "    .dataframe thead th {\n",
              "        text-align: right;\n",
              "    }\n",
              "</style>\n",
              "<table border=\"1\" class=\"dataframe\">\n",
              "  <thead>\n",
              "    <tr style=\"text-align: right;\">\n",
              "      <th></th>\n",
              "      <th>Produto</th>\n",
              "      <th>Categoria do Produto</th>\n",
              "      <th>Preço</th>\n",
              "      <th>Frete</th>\n",
              "      <th>Data da Compra</th>\n",
              "      <th>Vendedor</th>\n",
              "      <th>Local da compra</th>\n",
              "      <th>Avaliação da compra</th>\n",
              "      <th>Tipo de pagamento</th>\n",
              "      <th>Quantidade de parcelas</th>\n",
              "      <th>lat</th>\n",
              "      <th>lon</th>\n",
              "    </tr>\n",
              "  </thead>\n",
              "  <tbody>\n",
              "    <tr>\n",
              "      <th>0</th>\n",
              "      <td>Assistente virtual</td>\n",
              "      <td>eletronicos</td>\n",
              "      <td>219.08</td>\n",
              "      <td>9.249790</td>\n",
              "      <td>16/01/2021</td>\n",
              "      <td>Pedro Gomes</td>\n",
              "      <td>SP</td>\n",
              "      <td>4</td>\n",
              "      <td>cartao_credito</td>\n",
              "      <td>8</td>\n",
              "      <td>-22.19</td>\n",
              "      <td>-48.79</td>\n",
              "    </tr>\n",
              "    <tr>\n",
              "      <th>1</th>\n",
              "      <td>Mesa de jantar</td>\n",
              "      <td>moveis</td>\n",
              "      <td>256.35</td>\n",
              "      <td>11.234305</td>\n",
              "      <td>18/05/2022</td>\n",
              "      <td>Beatriz Moraes</td>\n",
              "      <td>RJ</td>\n",
              "      <td>1</td>\n",
              "      <td>cartao_credito</td>\n",
              "      <td>4</td>\n",
              "      <td>-22.25</td>\n",
              "      <td>-42.66</td>\n",
              "    </tr>\n",
              "    <tr>\n",
              "      <th>2</th>\n",
              "      <td>Jogo de tabuleiro</td>\n",
              "      <td>brinquedos</td>\n",
              "      <td>279.51</td>\n",
              "      <td>21.262681</td>\n",
              "      <td>15/03/2021</td>\n",
              "      <td>João Souza</td>\n",
              "      <td>DF</td>\n",
              "      <td>1</td>\n",
              "      <td>cartao_credito</td>\n",
              "      <td>1</td>\n",
              "      <td>-15.83</td>\n",
              "      <td>-47.86</td>\n",
              "    </tr>\n",
              "    <tr>\n",
              "      <th>3</th>\n",
              "      <td>Micro-ondas</td>\n",
              "      <td>eletrodomesticos</td>\n",
              "      <td>1009.99</td>\n",
              "      <td>54.667344</td>\n",
              "      <td>03/05/2022</td>\n",
              "      <td>João Souza</td>\n",
              "      <td>RS</td>\n",
              "      <td>4</td>\n",
              "      <td>boleto</td>\n",
              "      <td>1</td>\n",
              "      <td>-30.17</td>\n",
              "      <td>-53.50</td>\n",
              "    </tr>\n",
              "    <tr>\n",
              "      <th>4</th>\n",
              "      <td>Cadeira de escritório</td>\n",
              "      <td>moveis</td>\n",
              "      <td>446.99</td>\n",
              "      <td>26.964689</td>\n",
              "      <td>07/11/2020</td>\n",
              "      <td>Larissa Alves</td>\n",
              "      <td>MG</td>\n",
              "      <td>5</td>\n",
              "      <td>boleto</td>\n",
              "      <td>1</td>\n",
              "      <td>-18.10</td>\n",
              "      <td>-44.38</td>\n",
              "    </tr>\n",
              "  </tbody>\n",
              "</table>\n",
              "</div>\n",
              "    <div class=\"colab-df-buttons\">\n",
              "\n",
              "  <div class=\"colab-df-container\">\n",
              "    <button class=\"colab-df-convert\" onclick=\"convertToInteractive('df-ec8b74f1-9c05-4d55-b184-bac9a72d1252')\"\n",
              "            title=\"Convert this dataframe to an interactive table.\"\n",
              "            style=\"display:none;\">\n",
              "\n",
              "  <svg xmlns=\"http://www.w3.org/2000/svg\" height=\"24px\" viewBox=\"0 -960 960 960\">\n",
              "    <path d=\"M120-120v-720h720v720H120Zm60-500h600v-160H180v160Zm220 220h160v-160H400v160Zm0 220h160v-160H400v160ZM180-400h160v-160H180v160Zm440 0h160v-160H620v160ZM180-180h160v-160H180v160Zm440 0h160v-160H620v160Z\"/>\n",
              "  </svg>\n",
              "    </button>\n",
              "\n",
              "  <style>\n",
              "    .colab-df-container {\n",
              "      display:flex;\n",
              "      gap: 12px;\n",
              "    }\n",
              "\n",
              "    .colab-df-convert {\n",
              "      background-color: #E8F0FE;\n",
              "      border: none;\n",
              "      border-radius: 50%;\n",
              "      cursor: pointer;\n",
              "      display: none;\n",
              "      fill: #1967D2;\n",
              "      height: 32px;\n",
              "      padding: 0 0 0 0;\n",
              "      width: 32px;\n",
              "    }\n",
              "\n",
              "    .colab-df-convert:hover {\n",
              "      background-color: #E2EBFA;\n",
              "      box-shadow: 0px 1px 2px rgba(60, 64, 67, 0.3), 0px 1px 3px 1px rgba(60, 64, 67, 0.15);\n",
              "      fill: #174EA6;\n",
              "    }\n",
              "\n",
              "    .colab-df-buttons div {\n",
              "      margin-bottom: 4px;\n",
              "    }\n",
              "\n",
              "    [theme=dark] .colab-df-convert {\n",
              "      background-color: #3B4455;\n",
              "      fill: #D2E3FC;\n",
              "    }\n",
              "\n",
              "    [theme=dark] .colab-df-convert:hover {\n",
              "      background-color: #434B5C;\n",
              "      box-shadow: 0px 1px 3px 1px rgba(0, 0, 0, 0.15);\n",
              "      filter: drop-shadow(0px 1px 2px rgba(0, 0, 0, 0.3));\n",
              "      fill: #FFFFFF;\n",
              "    }\n",
              "  </style>\n",
              "\n",
              "    <script>\n",
              "      const buttonEl =\n",
              "        document.querySelector('#df-ec8b74f1-9c05-4d55-b184-bac9a72d1252 button.colab-df-convert');\n",
              "      buttonEl.style.display =\n",
              "        google.colab.kernel.accessAllowed ? 'block' : 'none';\n",
              "\n",
              "      async function convertToInteractive(key) {\n",
              "        const element = document.querySelector('#df-ec8b74f1-9c05-4d55-b184-bac9a72d1252');\n",
              "        const dataTable =\n",
              "          await google.colab.kernel.invokeFunction('convertToInteractive',\n",
              "                                                    [key], {});\n",
              "        if (!dataTable) return;\n",
              "\n",
              "        const docLinkHtml = 'Like what you see? Visit the ' +\n",
              "          '<a target=\"_blank\" href=https://colab.research.google.com/notebooks/data_table.ipynb>data table notebook</a>'\n",
              "          + ' to learn more about interactive tables.';\n",
              "        element.innerHTML = '';\n",
              "        dataTable['output_type'] = 'display_data';\n",
              "        await google.colab.output.renderOutput(dataTable, element);\n",
              "        const docLink = document.createElement('div');\n",
              "        docLink.innerHTML = docLinkHtml;\n",
              "        element.appendChild(docLink);\n",
              "      }\n",
              "    </script>\n",
              "  </div>\n",
              "\n",
              "\n",
              "    <div id=\"df-cf066f40-eb2c-4cd9-b429-6cff8b09a01b\">\n",
              "      <button class=\"colab-df-quickchart\" onclick=\"quickchart('df-cf066f40-eb2c-4cd9-b429-6cff8b09a01b')\"\n",
              "                title=\"Suggest charts\"\n",
              "                style=\"display:none;\">\n",
              "\n",
              "<svg xmlns=\"http://www.w3.org/2000/svg\" height=\"24px\"viewBox=\"0 0 24 24\"\n",
              "     width=\"24px\">\n",
              "    <g>\n",
              "        <path d=\"M19 3H5c-1.1 0-2 .9-2 2v14c0 1.1.9 2 2 2h14c1.1 0 2-.9 2-2V5c0-1.1-.9-2-2-2zM9 17H7v-7h2v7zm4 0h-2V7h2v10zm4 0h-2v-4h2v4z\"/>\n",
              "    </g>\n",
              "</svg>\n",
              "      </button>\n",
              "\n",
              "<style>\n",
              "  .colab-df-quickchart {\n",
              "      --bg-color: #E8F0FE;\n",
              "      --fill-color: #1967D2;\n",
              "      --hover-bg-color: #E2EBFA;\n",
              "      --hover-fill-color: #174EA6;\n",
              "      --disabled-fill-color: #AAA;\n",
              "      --disabled-bg-color: #DDD;\n",
              "  }\n",
              "\n",
              "  [theme=dark] .colab-df-quickchart {\n",
              "      --bg-color: #3B4455;\n",
              "      --fill-color: #D2E3FC;\n",
              "      --hover-bg-color: #434B5C;\n",
              "      --hover-fill-color: #FFFFFF;\n",
              "      --disabled-bg-color: #3B4455;\n",
              "      --disabled-fill-color: #666;\n",
              "  }\n",
              "\n",
              "  .colab-df-quickchart {\n",
              "    background-color: var(--bg-color);\n",
              "    border: none;\n",
              "    border-radius: 50%;\n",
              "    cursor: pointer;\n",
              "    display: none;\n",
              "    fill: var(--fill-color);\n",
              "    height: 32px;\n",
              "    padding: 0;\n",
              "    width: 32px;\n",
              "  }\n",
              "\n",
              "  .colab-df-quickchart:hover {\n",
              "    background-color: var(--hover-bg-color);\n",
              "    box-shadow: 0 1px 2px rgba(60, 64, 67, 0.3), 0 1px 3px 1px rgba(60, 64, 67, 0.15);\n",
              "    fill: var(--button-hover-fill-color);\n",
              "  }\n",
              "\n",
              "  .colab-df-quickchart-complete:disabled,\n",
              "  .colab-df-quickchart-complete:disabled:hover {\n",
              "    background-color: var(--disabled-bg-color);\n",
              "    fill: var(--disabled-fill-color);\n",
              "    box-shadow: none;\n",
              "  }\n",
              "\n",
              "  .colab-df-spinner {\n",
              "    border: 2px solid var(--fill-color);\n",
              "    border-color: transparent;\n",
              "    border-bottom-color: var(--fill-color);\n",
              "    animation:\n",
              "      spin 1s steps(1) infinite;\n",
              "  }\n",
              "\n",
              "  @keyframes spin {\n",
              "    0% {\n",
              "      border-color: transparent;\n",
              "      border-bottom-color: var(--fill-color);\n",
              "      border-left-color: var(--fill-color);\n",
              "    }\n",
              "    20% {\n",
              "      border-color: transparent;\n",
              "      border-left-color: var(--fill-color);\n",
              "      border-top-color: var(--fill-color);\n",
              "    }\n",
              "    30% {\n",
              "      border-color: transparent;\n",
              "      border-left-color: var(--fill-color);\n",
              "      border-top-color: var(--fill-color);\n",
              "      border-right-color: var(--fill-color);\n",
              "    }\n",
              "    40% {\n",
              "      border-color: transparent;\n",
              "      border-right-color: var(--fill-color);\n",
              "      border-top-color: var(--fill-color);\n",
              "    }\n",
              "    60% {\n",
              "      border-color: transparent;\n",
              "      border-right-color: var(--fill-color);\n",
              "    }\n",
              "    80% {\n",
              "      border-color: transparent;\n",
              "      border-right-color: var(--fill-color);\n",
              "      border-bottom-color: var(--fill-color);\n",
              "    }\n",
              "    90% {\n",
              "      border-color: transparent;\n",
              "      border-bottom-color: var(--fill-color);\n",
              "    }\n",
              "  }\n",
              "</style>\n",
              "\n",
              "      <script>\n",
              "        async function quickchart(key) {\n",
              "          const quickchartButtonEl =\n",
              "            document.querySelector('#' + key + ' button');\n",
              "          quickchartButtonEl.disabled = true;  // To prevent multiple clicks.\n",
              "          quickchartButtonEl.classList.add('colab-df-spinner');\n",
              "          try {\n",
              "            const charts = await google.colab.kernel.invokeFunction(\n",
              "                'suggestCharts', [key], {});\n",
              "          } catch (error) {\n",
              "            console.error('Error during call to suggestCharts:', error);\n",
              "          }\n",
              "          quickchartButtonEl.classList.remove('colab-df-spinner');\n",
              "          quickchartButtonEl.classList.add('colab-df-quickchart-complete');\n",
              "        }\n",
              "        (() => {\n",
              "          let quickchartButtonEl =\n",
              "            document.querySelector('#df-cf066f40-eb2c-4cd9-b429-6cff8b09a01b button');\n",
              "          quickchartButtonEl.style.display =\n",
              "            google.colab.kernel.accessAllowed ? 'block' : 'none';\n",
              "        })();\n",
              "      </script>\n",
              "    </div>\n",
              "\n",
              "    </div>\n",
              "  </div>\n"
            ],
            "application/vnd.google.colaboratory.intrinsic+json": {
              "type": "dataframe",
              "variable_name": "loja",
              "summary": "{\n  \"name\": \"loja\",\n  \"rows\": 2359,\n  \"fields\": [\n    {\n      \"column\": \"Produto\",\n      \"properties\": {\n        \"dtype\": \"category\",\n        \"num_unique_values\": 51,\n        \"samples\": [\n          \"Viol\\u00e3o\",\n          \"Bola de basquete\",\n          \"Smartwatch\"\n        ],\n        \"semantic_type\": \"\",\n        \"description\": \"\"\n      }\n    },\n    {\n      \"column\": \"Categoria do Produto\",\n      \"properties\": {\n        \"dtype\": \"category\",\n        \"num_unique_values\": 8,\n        \"samples\": [\n          \"moveis\",\n          \"esporte e lazer\",\n          \"eletronicos\"\n        ],\n        \"semantic_type\": \"\",\n        \"description\": \"\"\n      }\n    },\n    {\n      \"column\": \"Pre\\u00e7o\",\n      \"properties\": {\n        \"dtype\": \"number\",\n        \"std\": 819.5827782539145,\n        \"min\": 10.07,\n        \"max\": 3969.38,\n        \"num_unique_values\": 2315,\n        \"samples\": [\n          446.11,\n          107.31,\n          65.86\n        ],\n        \"semantic_type\": \"\",\n        \"description\": \"\"\n      }\n    },\n    {\n      \"column\": \"Frete\",\n      \"properties\": {\n        \"dtype\": \"number\",\n        \"std\": 43.814183327408166,\n        \"min\": 0.0,\n        \"max\": 214.3770604781,\n        \"num_unique_values\": 2149,\n        \"samples\": [\n          83.815279607,\n          16.069664669,\n          14.0344876928\n        ],\n        \"semantic_type\": \"\",\n        \"description\": \"\"\n      }\n    },\n    {\n      \"column\": \"Data da Compra\",\n      \"properties\": {\n        \"dtype\": \"object\",\n        \"num_unique_values\": 1018,\n        \"samples\": [\n          \"15/09/2022\",\n          \"03/06/2020\",\n          \"06/11/2021\"\n        ],\n        \"semantic_type\": \"\",\n        \"description\": \"\"\n      }\n    },\n    {\n      \"column\": \"Vendedor\",\n      \"properties\": {\n        \"dtype\": \"category\",\n        \"num_unique_values\": 14,\n        \"samples\": [\n          \"Juliana Costa\",\n          \"Mariana Ferreira\",\n          \"Pedro Gomes\"\n        ],\n        \"semantic_type\": \"\",\n        \"description\": \"\"\n      }\n    },\n    {\n      \"column\": \"Local da compra\",\n      \"properties\": {\n        \"dtype\": \"category\",\n        \"num_unique_values\": 26,\n        \"samples\": [\n          \"TO\",\n          \"RN\",\n          \"SP\"\n        ],\n        \"semantic_type\": \"\",\n        \"description\": \"\"\n      }\n    },\n    {\n      \"column\": \"Avalia\\u00e7\\u00e3o da compra\",\n      \"properties\": {\n        \"dtype\": \"number\",\n        \"std\": 1,\n        \"min\": 1,\n        \"max\": 5,\n        \"num_unique_values\": 5,\n        \"samples\": [\n          1,\n          2,\n          5\n        ],\n        \"semantic_type\": \"\",\n        \"description\": \"\"\n      }\n    },\n    {\n      \"column\": \"Tipo de pagamento\",\n      \"properties\": {\n        \"dtype\": \"category\",\n        \"num_unique_values\": 4,\n        \"samples\": [\n          \"boleto\",\n          \"cartao_debito\",\n          \"cartao_credito\"\n        ],\n        \"semantic_type\": \"\",\n        \"description\": \"\"\n      }\n    },\n    {\n      \"column\": \"Quantidade de parcelas\",\n      \"properties\": {\n        \"dtype\": \"number\",\n        \"std\": 2,\n        \"min\": 1,\n        \"max\": 24,\n        \"num_unique_values\": 15,\n        \"samples\": [\n          7,\n          14,\n          8\n        ],\n        \"semantic_type\": \"\",\n        \"description\": \"\"\n      }\n    },\n    {\n      \"column\": \"lat\",\n      \"properties\": {\n        \"dtype\": \"number\",\n        \"std\": 5.372399916530833,\n        \"min\": -30.17,\n        \"max\": 1.41,\n        \"num_unique_values\": 26,\n        \"samples\": [\n          -9.46,\n          -5.81,\n          -22.19\n        ],\n        \"semantic_type\": \"\",\n        \"description\": \"\"\n      }\n    },\n    {\n      \"column\": \"lon\",\n      \"properties\": {\n        \"dtype\": \"number\",\n        \"std\": 4.183180020544179,\n        \"min\": -70.55,\n        \"max\": -36.59,\n        \"num_unique_values\": 26,\n        \"samples\": [\n          -48.26,\n          -36.59,\n          -48.79\n        ],\n        \"semantic_type\": \"\",\n        \"description\": \"\"\n      }\n    }\n  ]\n}"
            }
          },
          "metadata": {},
          "execution_count": 1
        }
      ],
      "source": [
        "import pandas as pd\n",
        "\n",
        "url = \"https://raw.githubusercontent.com/alura-es-cursos/challenge1-data-science/refs/heads/main/base-de-dados-challenge-1/loja_1.csv\"\n",
        "url2 = \"https://raw.githubusercontent.com/alura-es-cursos/challenge1-data-science/refs/heads/main/base-de-dados-challenge-1/loja_2.csv\"\n",
        "url3 = \"https://raw.githubusercontent.com/alura-es-cursos/challenge1-data-science/refs/heads/main/base-de-dados-challenge-1/loja_3.csv\"\n",
        "url4 = \"https://raw.githubusercontent.com/alura-es-cursos/challenge1-data-science/refs/heads/main/base-de-dados-challenge-1/loja_4.csv\"\n",
        "\n",
        "loja = pd.read_csv(url)\n",
        "loja2 = pd.read_csv(url2)\n",
        "loja3 = pd.read_csv(url3)\n",
        "loja4 = pd.read_csv(url4)\n",
        "\n",
        "loja.head()"
      ]
    },
    {
      "cell_type": "markdown",
      "source": [
        "#1. Análise do faturamento\n"
      ],
      "metadata": {
        "id": "X62IW3KFUIYm"
      }
    },
    {
      "cell_type": "code",
      "source": [
        "import matplotlib.pyplot as plt\n",
        "from matplotlib.ticker import FuncFormatter\n",
        "from babel.numbers import format_currency"
      ],
      "metadata": {
        "id": "xykobSftV64I"
      },
      "execution_count": null,
      "outputs": []
    },
    {
      "cell_type": "code",
      "source": [
        "# Criando coluna para identificação da loja\n",
        "loja[\"Loja\"] = \"Loja 1\"\n",
        "loja2[\"Loja\"] = \"Loja 2\"\n",
        "loja3[\"Loja\"] = \"Loja 3\"\n",
        "loja4[\"Loja\"] = \"Loja 4\"\n",
        "\n",
        "# Unir todas as lojas\n",
        "lojas = pd.concat([loja, loja2, loja3, loja4])\n",
        "\n",
        "# Coluna de faturamento total\n",
        "lojas[\"Faturamento\"] = lojas[\"Preço\"]"
      ],
      "metadata": {
        "id": "KDyr8E71V3m-"
      },
      "execution_count": null,
      "outputs": []
    },
    {
      "cell_type": "code",
      "source": [
        "# Faturamento total\n",
        "faturamento_total = lojas[\"Faturamento\"].sum()\n",
        "print(\"Faturamento Total:\", format_currency(faturamento_total, \"BRL\", locale=\"pt_BR\"))\n",
        "\n",
        "# Faturamento por loja\n",
        "faturamento_loja = lojas.groupby(\"Loja\")[\"Faturamento\"].sum().reset_index()\n",
        "faturamento_loja[\"Faturamento\"] = faturamento_loja[\"Faturamento\"].map(lambda x: format_currency(x, \"BRL\", locale=\"pt_BR\"))\n",
        "print(\"\\nFaturamento por Loja:\")\n",
        "print(faturamento_loja)"
      ],
      "metadata": {
        "colab": {
          "base_uri": "https://localhost:8080/"
        },
        "id": "8HUI68aRiH1D",
        "outputId": "5435bf03-7b6c-4d68-c267-58e04cb6d5c5"
      },
      "execution_count": null,
      "outputs": [
        {
          "output_type": "stream",
          "name": "stdout",
          "text": [
            "Faturamento Total: R$ 5.871.490,79\n",
            "\n",
            "Faturamento por Loja:\n",
            "     Loja      Faturamento\n",
            "0  Loja 1  R$ 1.534.509,12\n",
            "1  Loja 2  R$ 1.488.459,06\n",
            "2  Loja 3  R$ 1.464.025,03\n",
            "3  Loja 4  R$ 1.384.497,58\n"
          ]
        }
      ]
    },
    {
      "cell_type": "markdown",
      "source": [
        "# 2. Vendas por Categoria\n"
      ],
      "metadata": {
        "id": "2V_vcAPzWZmR"
      }
    },
    {
      "cell_type": "code",
      "source": [
        "tabela_cat_loja = lojas.pivot_table(\n",
        "    values=\"Faturamento\",\n",
        "    index=\"Categoria do Produto\",\n",
        "    columns=\"Loja\",\n",
        "    aggfunc=\"sum\",\n",
        "    fill_value=0\n",
        ")\n",
        "\n",
        "#Formatação em R$\n",
        "try:\n",
        "    tabela_cat_loja_fmt = tabela_cat_loja.map(\n",
        "        lambda v: format_currency(float(v), \"BRL\", locale=\"pt_BR\")\n",
        "    )\n",
        "except AttributeError:\n",
        "    tabela_cat_loja_fmt = tabela_cat_loja.apply(\n",
        "        lambda col: col.map(lambda v: format_currency(float(v), \"BRL\", locale=\"pt_BR\"))\n",
        "    )\n",
        "\n",
        "print(\"\\nTabela (Categoria x Loja) em R$:\")\n",
        "print(tabela_cat_loja_fmt)"
      ],
      "metadata": {
        "id": "A34YupIuYhfF",
        "colab": {
          "base_uri": "https://localhost:8080/"
        },
        "outputId": "f3aa143b-e2c3-41f6-db2d-75dfb353ac2d"
      },
      "execution_count": null,
      "outputs": [
        {
          "output_type": "stream",
          "name": "stdout",
          "text": [
            "\n",
            "Tabela (Categoria x Loja) em R$:\n",
            "Loja                          Loja 1         Loja 2         Loja 3  \\\n",
            "Categoria do Produto                                                 \n",
            "brinquedos              R$ 23.993,78   R$ 21.262,21   R$ 25.869,20   \n",
            "eletrodomesticos       R$ 484.913,36  R$ 464.758,13  R$ 438.984,89   \n",
            "eletronicos            R$ 572.659,23  R$ 547.773,71  R$ 547.699,92   \n",
            "esporte e lazer         R$ 52.387,55   R$ 46.326,09   R$ 47.456,10   \n",
            "instrumentos musicais  R$ 121.731,69  R$ 139.987,03  R$ 103.174,45   \n",
            "livros                  R$ 11.713,92   R$ 13.454,35   R$ 12.664,70   \n",
            "moveis                 R$ 250.178,11  R$ 235.234,68  R$ 268.095,56   \n",
            "utilidades domesticas   R$ 16.931,48   R$ 19.662,86   R$ 20.080,21   \n",
            "\n",
            "Loja                          Loja 4  \n",
            "Categoria do Produto                  \n",
            "brinquedos              R$ 27.015,67  \n",
            "eletrodomesticos       R$ 377.680,65  \n",
            "eletronicos            R$ 545.966,86  \n",
            "esporte e lazer         R$ 44.465,65  \n",
            "instrumentos musicais  R$ 100.136,50  \n",
            "livros                  R$ 12.427,77  \n",
            "moveis                 R$ 256.705,65  \n",
            "utilidades domesticas   R$ 20.098,83  \n"
          ]
        }
      ]
    },
    {
      "cell_type": "markdown",
      "source": [
        "# 3. Média de Avaliação das Lojas"
      ],
      "metadata": {
        "id": "Rq6tU_xSY3jk"
      }
    },
    {
      "cell_type": "code",
      "source": [
        "# Garantir tipo numérico\n",
        "lojas[\"Avaliação da compra\"] = pd.to_numeric(lojas[\"Avaliação da compra\"], errors=\"coerce\")\n",
        "\n",
        "# Média por loja\n",
        "media_avaliacao = (\n",
        "    lojas.groupby(\"Loja\", as_index=False)\n",
        "         .agg(Média=(\"Avaliação da compra\", \"mean\"),\n",
        "              Qtd_Avaliações=(\"Avaliação da compra\", \"size\"))\n",
        "         .sort_values(\"Média\", ascending=False)\n",
        ")"
      ],
      "metadata": {
        "id": "bh3jjjJwY5MU"
      },
      "execution_count": null,
      "outputs": []
    },
    {
      "cell_type": "code",
      "source": [
        "# Média\n",
        "media_avaliacao[\"Média\"] = media_avaliacao[\"Média\"].round(2)\n",
        "print(\"Média de avaliação por loja:\")\n",
        "print(media_avaliacao)"
      ],
      "metadata": {
        "id": "I0KkjPoTY88F",
        "colab": {
          "base_uri": "https://localhost:8080/"
        },
        "outputId": "c55dc33f-920e-4a6e-9fb2-9e96b21e8417"
      },
      "execution_count": 162,
      "outputs": [
        {
          "output_type": "stream",
          "name": "stdout",
          "text": [
            "Média de avaliação por loja:\n",
            "     Loja  Média  Qtd_Avaliações\n",
            "2  Loja 3   4.05            2359\n",
            "1  Loja 2   4.04            2359\n",
            "3  Loja 4   4.00            2358\n",
            "0  Loja 1   3.98            2359\n"
          ]
        }
      ]
    },
    {
      "cell_type": "markdown",
      "source": [
        "# 4. Produtos Mais e Menos Vendidos"
      ],
      "metadata": {
        "id": "DmNp1KPBZCm-"
      }
    },
    {
      "cell_type": "code",
      "source": [
        "N = 10\n",
        "\n",
        "# Mais vendidos\n",
        "mais_vendidos = (\n",
        "    vendas_por_produto\n",
        "      .sort_values([\"Qtd_Vendas\", \"Faturamento\"], ascending=[False, False])\n",
        "      .reset_index(drop=True)              # <-- zera o índice\n",
        ")\n",
        "mais_vendidos[\"Posição\"] = mais_vendidos.index + 1\n",
        "mv_disp = mais_vendidos.loc[:N-1, [\"Posição\",\"Produto\",\"Qtd_Vendas\",\"Faturamento\"]].copy()\n",
        "mv_disp[\"Faturamento\"] = mv_disp[\"Faturamento\"].map(brl)\n",
        "\n",
        "print(\"TOP produtos MAIS vendidos:\")\n",
        "print(mv_disp)\n",
        "\n",
        "# Menos vendidos\n",
        "menos_vendidos = (\n",
        "    vendas_por_produto\n",
        "      .sort_values([\"Qtd_Vendas\", \"Faturamento\"], ascending=[True, True])\n",
        "      .reset_index(drop=True)\n",
        ")\n",
        "menos_vendidos[\"Posição\"] = menos_vendidos.index + 1\n",
        "mnv_disp = menos_vendidos.loc[:N-1, [\"Posição\",\"Produto\",\"Qtd_Vendas\",\"Faturamento\"]].copy()\n",
        "mnv_disp[\"Faturamento\"] = mnv_disp[\"Faturamento\"].map(brl)\n",
        "\n",
        "print(\"\\nTOP produtos MENOS vendidos:\")\n",
        "print(mnv_disp)\n",
        "\n"
      ],
      "metadata": {
        "id": "qoyjqijQZHfF",
        "colab": {
          "base_uri": "https://localhost:8080/"
        },
        "outputId": "778b5a70-6ef5-4d89-91cd-bef1049944f1"
      },
      "execution_count": null,
      "outputs": [
        {
          "output_type": "stream",
          "name": "stdout",
          "text": [
            "TOP produtos MAIS vendidos:\n",
            "   Posição                   Produto  Qtd_Vendas    Faturamento\n",
            "0        1                    Cômoda         210   R$ 77.892,33\n",
            "1        2               Micro-ondas         206  R$ 154.267,24\n",
            "2        3  Carrinho controle remoto         206   R$ 19.690,62\n",
            "3        4                   Bateria         203  R$ 197.074,45\n",
            "4        5                 Cama king         201  R$ 181.040,36\n",
            "5        6        Secadora de roupas         200  R$ 280.317,31\n",
            "6        7           Jogo de panelas         200   R$ 40.675,34\n",
            "7        8       Modelagem preditiva         200   R$ 16.820,71\n",
            "8        9                  Cama box         199  R$ 138.797,42\n",
            "9       10          Blocos de montar         199    R$ 9.069,86\n",
            "\n",
            "TOP produtos MENOS vendidos:\n",
            "   Posição                      Produto  Qtd_Vendas    Faturamento\n",
            "0        1                 Celular ABXY         157  R$ 210.547,77\n",
            "1        2                      Headset         158   R$ 30.330,90\n",
            "2        3                      Mochila         163   R$ 21.421,54\n",
            "3        4                     Guitarra         165  R$ 172.539,87\n",
            "4        5  Ciência de dados com python         166   R$ 12.049,06\n",
            "5        6           Assistente virtual         167   R$ 45.956,59\n",
            "6        7                     Poltrona         168   R$ 54.395,35\n",
            "7        8                Jogo de copos         169    R$ 7.445,28\n",
            "8        9            Panela de pressão         172   R$ 17.238,91\n",
            "9       10                   Smartwatch         172   R$ 39.905,90\n"
          ]
        }
      ]
    },
    {
      "cell_type": "markdown",
      "source": [
        "# 5. Frete Médio por Loja\n"
      ],
      "metadata": {
        "id": "Fl0cGi3bZKqU"
      }
    },
    {
      "cell_type": "code",
      "source": [
        "# Frete meédio por loja\n",
        "frete_medio_loja = (\n",
        "    lojas.groupby(\"Loja\", as_index=False)\n",
        "         .agg(Frete_Médio=(\"Frete\", \"mean\"),\n",
        "              Qtd_Pedidos=(\"Frete\", \"size\"))\n",
        "         .sort_values(\"Frete_Médio\", ascending=False)\n",
        ")\n",
        "\n",
        "frete_medio_loja[\"Frete_Médio\"] = frete_medio_loja[\"Frete_Médio\"].round(2)\n",
        "frete_medio_display = frete_medio_loja.copy()\n",
        "frete_medio_display[\"Frete_Médio\"] = frete_medio_display[\"Frete_Médio\"].map(brl)\n",
        "\n",
        "print(\"Frete Médio por Loja:\")\n",
        "print(frete_medio_display)\n",
        "\n",
        "\n"
      ],
      "metadata": {
        "id": "S2JeaCykZNy9",
        "colab": {
          "base_uri": "https://localhost:8080/"
        },
        "outputId": "256151f1-33be-4b75-99b4-60b793b8580f"
      },
      "execution_count": 164,
      "outputs": [
        {
          "output_type": "stream",
          "name": "stdout",
          "text": [
            "Frete Médio por Loja:\n",
            "     Loja Frete_Médio  Qtd_Pedidos\n",
            "0  Loja 1    R$ 34,69         2359\n",
            "1  Loja 2    R$ 33,62         2359\n",
            "2  Loja 3    R$ 33,07         2359\n",
            "3  Loja 4    R$ 31,28         2358\n"
          ]
        }
      ]
    },
    {
      "cell_type": "markdown",
      "source": [
        "# 6. Gráficos"
      ],
      "metadata": {
        "id": "Zht8Z67NN23f"
      }
    },
    {
      "cell_type": "code",
      "source": [
        "# Faturamento por loja\n",
        "fat_loja_plot = lojas.groupby(\"Loja\", as_index=False)[\"Faturamento\"].sum()\n",
        "\n",
        "# Ordem das lojas\n",
        "ordem = [\"Loja 1\", \"Loja 2\", \"Loja 3\", \"Loja 4\"]\n",
        "if set(fat_loja_plot[\"Loja\"]).issubset(set(ordem)):\n",
        "    fat_loja_plot[\"Loja\"] = pd.Categorical(fat_loja_plot[\"Loja\"], ordem, ordered=True)\n",
        "    fat_loja_plot = fat_loja_plot.sort_values(\"Loja\")\n",
        "\n",
        "# Gráfico de linhas\n",
        "fig, ax = plt.subplots(figsize=(7,4))\n",
        "ax.plot(fat_loja_plot[\"Loja\"], fat_loja_plot[\"Faturamento\"], marker=\"o\")\n",
        "ax.set_title(\"Faturamento por Loja (linha)\")\n",
        "ax.set_ylabel(\"R$\")\n",
        "\n",
        "# Eixo Y em R$\n",
        "ax.yaxis.set_major_formatter(\n",
        "    FuncFormatter(lambda y, _: format_currency(y, \"BRL\", locale=\"pt_BR\"))\n",
        ")\n",
        "\n",
        "# Rótulos nos pontos em R$\n",
        "for x, y in zip(fat_loja_plot[\"Loja\"], fat_loja_plot[\"Faturamento\"]):\n",
        "    ax.text(x, y, format_currency(y, \"BRL\", locale=\"pt_BR\"),\n",
        "            ha=\"center\", va=\"bottom\", fontsize=9)\n",
        "\n",
        "plt.tight_layout()\n",
        "plt.show()"
      ],
      "metadata": {
        "colab": {
          "base_uri": "https://localhost:8080/",
          "height": 407
        },
        "id": "vETnb4PBPnp8",
        "outputId": "f69c219e-91da-47a4-af72-e60fd1e1ffc2"
      },
      "execution_count": 170,
      "outputs": [
        {
          "output_type": "display_data",
          "data": {
            "text/plain": [
              "<Figure size 700x400 with 1 Axes>"
            ],
            "image/png": "[encoded data removed]"
          },
          "metadata": {}
        }
      ]
    },
    {
      "cell_type": "code",
      "source": [
        "labels = media_avaliacao[\"Loja\"]\n",
        "vals   = media_avaliacao[\"Média\"]\n",
        "\n",
        "fig, ax = plt.subplots(figsize=(6,6))\n",
        "ax.pie(\n",
        "    vals,\n",
        "    labels=labels,\n",
        "    autopct=lambda pct: f'{pct:.1f}%',  # porcentual relativo ao total das médias\n",
        "    startangle=90,\n",
        "    wedgeprops=dict(width=0.35)         # largura < 1.0 => vira rosca\n",
        ")\n",
        "ax.set_title(\"Média de Avaliação das Lojas — gráfico de rosca\")\n",
        "ax.axis('equal')  # deixa o círculo perfeito\n",
        "\n",
        "# info no centro (opcional): média geral\n",
        "ax.text(0, 0, f\"Média geral\\n{vals.mean():.2f}\", ha=\"center\", va=\"center\", fontsize=11)\n",
        "\n",
        "plt.tight_layout()\n",
        "plt.show()"
      ],
      "metadata": {
        "colab": {
          "base_uri": "https://localhost:8080/",
          "height": 607
        },
        "id": "-kHSR90gOMoa",
        "outputId": "8fbd1aed-df9e-4b0f-cfc2-d8ae11ad4a12"
      },
      "execution_count": 168,
      "outputs": [
        {
          "output_type": "display_data",
          "data": {
            "text/plain": [
              "<Figure size 600x600 with 1 Axes>"
            ],
            "image/png": "[encoded data removed]"
          },
          "metadata": {}
        }
      ]
    },
    {
      "cell_type": "code",
      "source": [
        "fmt = FuncFormatter(lambda x, pos: brl(x))\n",
        "plt.figure(figsize=(7,4))\n",
        "plt.bar(frete_medio_loja[\"Loja\"], frete_medio_loja[\"Frete_Médio\"])\n",
        "plt.title(\"Frete Médio por Loja\")\n",
        "plt.ylabel(\"R$\")\n",
        "plt.gca().yaxis.set_major_formatter(fmt)\n",
        "for i, v in enumerate(frete_medio_loja[\"Frete_Médio\"]):\n",
        "    plt.text(i, v, brl(v), ha=\"center\", va=\"bottom\", fontsize=9)\n",
        "plt.tight_layout()\n",
        "plt.show()"
      ],
      "metadata": {
        "colab": {
          "base_uri": "https://localhost:8080/",
          "height": 407
        },
        "id": "UMsfcfdtOaTZ",
        "outputId": "77ac017d-6af6-47ec-ae03-1729063808b8"
      },
      "execution_count": 165,
      "outputs": [
        {
          "output_type": "display_data",
          "data": {
            "text/plain": [
              "<Figure size 700x400 with 1 Axes>"
            ],
            "image/png": "[encoded data removed]"
          },
          "metadata": {}
        }
      ]
    }
  ]
}